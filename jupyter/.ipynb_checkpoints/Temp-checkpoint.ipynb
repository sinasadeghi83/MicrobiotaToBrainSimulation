{
 "cells": [
  {
   "cell_type": "code",
   "execution_count": null,
   "metadata": {},
   "outputs": [],
   "source": [
    "#Creating mucus layer with Tub\n",
    "# for x in range(xlength):\n",
    "#     for y in range(int(yRatio * lumenRatio), int(yRatio * (lumenRatio+mucusRatio))):\n",
    "#         if y%4 == 3:\n",
    "#             continue\n",
    "#         if ((x%5)%2 != 0 and y % 2 == 1) or (x%5==2 and y%2==0): \n",
    "#            board[x][y] = Epithelial()\n"
   ]
  }
 ],
 "metadata": {
  "kernelspec": {
   "display_name": "Python 3",
   "language": "python",
   "name": "python3"
  },
  "language_info": {
   "codemirror_mode": {
    "name": "ipython",
    "version": 3
   },
   "file_extension": ".py",
   "mimetype": "text/x-python",
   "name": "python",
   "nbconvert_exporter": "python",
   "pygments_lexer": "ipython3",
   "version": "3.8.3"
  }
 },
 "nbformat": 4,
 "nbformat_minor": 4
}
