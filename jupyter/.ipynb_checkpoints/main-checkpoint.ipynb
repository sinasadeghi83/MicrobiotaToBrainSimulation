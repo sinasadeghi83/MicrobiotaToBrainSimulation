{
 "cells": [
  {
   "cell_type": "markdown",
   "metadata": {},
   "source": [
    "# Main codes"
   ]
  },
  {
   "cell_type": "code",
   "execution_count": 1,
   "metadata": {},
   "outputs": [],
   "source": [
    "objects = []"
   ]
  },
  {
   "cell_type": "code",
   "execution_count": 2,
   "metadata": {},
   "outputs": [],
   "source": [
    "class Square:\n",
    "    color = [255, 255, 255]\n",
    "    isPermanent = False\n",
    "square = {\n",
    "    'color':[255, 255, 255],\n",
    "    'isPermanent':False,\n",
    "    'sort':'square',\n",
    "    'id':0,\n",
    "}\n",
    "objects.append(square)"
   ]
  },
  {
   "cell_type": "markdown",
   "metadata": {},
   "source": [
    "## Matter"
   ]
  },
  {
   "cell_type": "code",
   "execution_count": 3,
   "metadata": {},
   "outputs": [],
   "source": [
    "## Maybe in the future\n",
    "class Matter(Square):\n",
    "    pass\n",
    "matter = square.copy()\n",
    "matter['sort'] = 'matter'\n",
    "matter['id'] = 1\n",
    "objects.append(matter)"
   ]
  },
  {
   "cell_type": "markdown",
   "metadata": {},
   "source": [
    "## Cell"
   ]
  },
  {
   "cell_type": "code",
   "execution_count": 4,
   "metadata": {},
   "outputs": [],
   "source": [
    "class Cell(Square):\n",
    "    secretions = []\n",
    "cell = square.copy()\n",
    "cell['sort'] = 'cell'\n",
    "cell['secretions'] = []\n",
    "cell['id'] = 2\n",
    "objects.append(cell)"
   ]
  },
  {
   "cell_type": "markdown",
   "metadata": {},
   "source": [
    "## Bacteria"
   ]
  },
  {
   "cell_type": "code",
   "execution_count": 5,
   "metadata": {},
   "outputs": [],
   "source": [
    "class Bacteria(Cell):\n",
    "    secretions = [9, 10]\n",
    "    def __init__(self):\n",
    "        self.color = [102, 204, 255]\n",
    "bacteria = cell.copy()\n",
    "bacteria['secretions'] = [9, 10]\n",
    "bacteria['color'] = [102, 204, 255]\n",
    "bacteria['id'] = 3\n",
    "objects.append(bacteria)"
   ]
  },
  {
   "cell_type": "markdown",
   "metadata": {},
   "source": [
    "## Probiotic"
   ]
  },
  {
   "cell_type": "code",
   "execution_count": 6,
   "metadata": {},
   "outputs": [],
   "source": [
    "class Probiotic(Bacteria):\n",
    "    def __init__(self):\n",
    "        self.color = [204, 204, 0]\n",
    "probiotic = bacteria.copy()\n",
    "probiotic['color'] = [204, 204, 0]\n",
    "probiotic['id'] = 4\n",
    "objects.append(probiotic)"
   ]
  },
  {
   "cell_type": "markdown",
   "metadata": {},
   "source": [
    "## Vessel"
   ]
  },
  {
   "cell_type": "code",
   "execution_count": 7,
   "metadata": {},
   "outputs": [],
   "source": [
    "class Vessel(Cell):\n",
    "    def __init__(self):\n",
    "        self.title = \"Vessel\"\n",
    "        self.color = [204, 0, 0]\n",
    "        self.isPermanent = True\n",
    "vessel = cell.copy()\n",
    "vessel['color'] = [204, 0, 0]\n",
    "vessel['isPermanent'] = True\n",
    "vessel['id'] = 5\n",
    "objects.append(vessel)"
   ]
  },
  {
   "cell_type": "markdown",
   "metadata": {},
   "source": [
    "## Nerve"
   ]
  },
  {
   "cell_type": "code",
   "execution_count": 8,
   "metadata": {},
   "outputs": [],
   "source": [
    "class Nerve(Cell):\n",
    "    def __init__(self):\n",
    "        self.title = \"Nerve\"\n",
    "        self.color = [255, 204, 0]\n",
    "        self.isPermanent = True\n",
    "nerve = cell.copy()\n",
    "nerve['color'] = [255, 204, 0]\n",
    "nerve['isPermanent'] = True\n",
    "nerve['id'] = 6\n",
    "objects.append(nerve)"
   ]
  },
  {
   "cell_type": "markdown",
   "metadata": {},
   "source": [
    "## Epithelial cell"
   ]
  },
  {
   "cell_type": "code",
   "execution_count": 9,
   "metadata": {},
   "outputs": [],
   "source": [
    "class Epithelial(Cell):\n",
    "    def __init__(self):\n",
    "        self.title = \"Epithelial\"\n",
    "        self.color = [102, 255, 153]\n",
    "        self.isPermanent = False\n",
    "epithelial = cell.copy()\n",
    "epithelial['color'] = [102, 255, 153]\n",
    "epithelial['isPermanent'] = True\n",
    "epithelial['id'] = 7\n",
    "objects.append(epithelial)"
   ]
  },
  {
   "cell_type": "markdown",
   "metadata": {},
   "source": [
    "## Tight junction"
   ]
  },
  {
   "cell_type": "code",
   "execution_count": 10,
   "metadata": {},
   "outputs": [],
   "source": [
    "junction = cell.copy()\n",
    "junction['color'] = [102, 255, 153]\n",
    "junction['isPermanent'] = False\n",
    "junction['id'] = 8\n",
    "objects.append(junction)"
   ]
  },
  {
   "cell_type": "markdown",
   "metadata": {},
   "source": [
    "## SCFA & LPS"
   ]
  },
  {
   "cell_type": "code",
   "execution_count": 11,
   "metadata": {},
   "outputs": [],
   "source": [
    "scfa = matter.copy()\n",
    "scfa['id'] = 9\n",
    "scfa['color'] = [153, 0, 0]\n",
    "scfa['isPermanent'] = False\n",
    "objects.append(scfa)"
   ]
  },
  {
   "cell_type": "code",
   "execution_count": 12,
   "metadata": {},
   "outputs": [],
   "source": [
    "lps = matter.copy()\n",
    "lps['id'] = 10\n",
    "lps['color'] = [255, 0, 255]\n",
    "lps['isPermanent'] = False\n",
    "objects.append(lps)"
   ]
  },
  {
   "cell_type": "code",
   "execution_count": 13,
   "metadata": {},
   "outputs": [],
   "source": [
    "idColor = {\n",
    "}\n",
    "#### Permanent Ids\n",
    "idPerm = []\n",
    "#### Types\n",
    "types = {'cell':[], }\n",
    "#### Secretions\n",
    "secrets = dict()\n",
    "for obj in objects:\n",
    "    idColor[obj['id']] = obj['color']\n",
    "    if obj['isPermanent']:\n",
    "        idPerm.append(obj['id'])\n",
    "    if obj['sort'] in types:\n",
    "        types[obj['sort']].append(obj['id'])\n",
    "    else:\n",
    "        types[obj['sort']] = [obj['id']]\n",
    "    if obj['sort'] == 'cell' and len(obj['secretions'])>0:\n",
    "        secrets[obj['id']] = obj['secretions']"
   ]
  },
  {
   "cell_type": "markdown",
   "metadata": {},
   "source": [
    "## Decoding rle pattern"
   ]
  },
  {
   "cell_type": "code",
   "execution_count": 14,
   "metadata": {},
   "outputs": [],
   "source": [
    "# import re\n",
    "\n",
    "# def decode(text):\n",
    "#     for (char, num) in re.findall(r'([a-z])([0-9]+)', text):\n",
    "#         yield char * int(num)"
   ]
  },
  {
   "cell_type": "code",
   "execution_count": 15,
   "metadata": {
    "scrolled": true
   },
   "outputs": [],
   "source": [
    "# f = open(\"pattern.rle\", 'r')\n",
    "# pattern = \"\"\n",
    "# for temp in f:\n",
    "#     pattern = pattern + temp\n",
    "# pattern = ''.join(decode(pattern))\n",
    "# f.close()"
   ]
  },
  {
   "cell_type": "markdown",
   "metadata": {},
   "source": [
    "## Reading cell file for pattern"
   ]
  },
  {
   "cell_type": "code",
   "execution_count": 16,
   "metadata": {},
   "outputs": [],
   "source": [
    "def readPattern(fileName):\n",
    "    f = open(fileName, 'r')\n",
    "    patStr = ''\n",
    "    yCount = 0\n",
    "    xCount = 0\n",
    "    for line in f:\n",
    "        if line[0] == '!':\n",
    "            continue\n",
    "        patStr += line\n",
    "        yCount += 1\n",
    "        xCount = max(len(line), xCount)\n",
    "    xCount -= 1\n",
    "    pattern = [['.'] * yCount for i in range(xCount)]\n",
    "    cords = [0, 0]\n",
    "    for c in patStr:\n",
    "        if c == '\\n':\n",
    "            cords[1] += 1\n",
    "            cords[0] = 0\n",
    "        else:\n",
    "            pattern[cords[0]][cords[1]] = c\n",
    "            cords[0] += 1\n",
    "    return [pattern, xCount, yCount]"
   ]
  },
  {
   "cell_type": "code",
   "execution_count": 17,
   "metadata": {},
   "outputs": [],
   "source": [
    "def swapXY(pattern):\n",
    "    patt = pattern[0]\n",
    "    newPatt = [['.'] * pattern[1] for i in range(pattern[2])]\n",
    "    for y in range(pattern[2]):\n",
    "        for x in range(pattern[1]):\n",
    "            newPatt[pattern[2] - y-1][x] = patt[x][y]\n",
    "    return [newPatt, pattern[2], pattern[1]]"
   ]
  },
  {
   "cell_type": "code",
   "execution_count": 18,
   "metadata": {},
   "outputs": [],
   "source": [
    "def swapXX(pattern):\n",
    "    patt = pattern[0]\n",
    "    newPatt = [['.'] * pattern[2] for i in range(pattern[1])]\n",
    "    for y in range(pattern[2]):\n",
    "        for x in range(pattern[1]):\n",
    "            newPatt[pattern[1] - x - 1][y] = patt[x][y]\n",
    "    return [newPatt, pattern[1], pattern[2]]"
   ]
  },
  {
   "cell_type": "code",
   "execution_count": 19,
   "metadata": {},
   "outputs": [],
   "source": [
    "def swapYY(pattern):\n",
    "    patt = pattern[0]\n",
    "    newPatt = [['.'] * pattern[2] for i in range(pattern[1])]\n",
    "    for y in range(pattern[2]):\n",
    "        for x in range(pattern[1]):\n",
    "            newPatt[x][pattern[2] - y-1] = patt[x][y]\n",
    "    return [newPatt, pattern[1], pattern[2]]"
   ]
  },
  {
   "cell_type": "markdown",
   "metadata": {},
   "source": [
    "## Creating the board"
   ]
  },
  {
   "cell_type": "code",
   "execution_count": 20,
   "metadata": {},
   "outputs": [],
   "source": [
    "genNum = 0\n",
    "breeder = swapYY(swapXY(readPattern('patterns/lwss.cells')))\n",
    "xlength = 104\n",
    "ylength = 104\n",
    "board = [[0] * ylength for i in range(xlength)]\n",
    "lumenRatio = 6\n",
    "mucusRatio = 5\n",
    "subMucusRatio = 2\n",
    "yRatio = ylength/(subMucusRatio + mucusRatio + lumenRatio)"
   ]
  },
  {
   "cell_type": "code",
   "execution_count": 21,
   "metadata": {},
   "outputs": [],
   "source": [
    "# for y in range(breeder[2]):\n",
    "#     for x in range(breeder[1]):\n",
    "#         print(breeder[0][x][y], end=\" \")\n",
    "#     print('\\n')"
   ]
  },
  {
   "cell_type": "markdown",
   "metadata": {},
   "source": [
    "## Writing patterns"
   ]
  },
  {
   "cell_type": "code",
   "execution_count": 22,
   "metadata": {},
   "outputs": [],
   "source": [
    "def writePattern(firstCords, lastCords, pattern, klass, space=2):\n",
    "    for y in range(firstCords[1], lastCords[1]+1):\n",
    "        if (y - firstCords[1]) %(space + pattern[2]) >= pattern[2]:\n",
    "            continue\n",
    "        for x in range(firstCords[0], lastCords[0]+1):\n",
    "            if (x - firstCords[0]) % (space + pattern[1]) >= pattern[1]:\n",
    "                continue\n",
    "            if pattern[0][(x - firstCords[0]) %(space + pattern[1])][(y - firstCords[1]) %(space + pattern[2])] == '.':\n",
    "                board[x][y] = 0\n",
    "            else:\n",
    "                board[x][y] = klass()"
   ]
  },
  {
   "cell_type": "markdown",
   "metadata": {},
   "source": [
    "## Write patterns with dict"
   ]
  },
  {
   "cell_type": "code",
   "execution_count": 27,
   "metadata": {},
   "outputs": [],
   "source": [
    "#Write pattern with dict\n",
    "def writePatternDict(firstCords, lastCords, pattern, sqId, space=2):\n",
    "    for y in range(firstCords[1], lastCords[1]+1):\n",
    "        if (y - firstCords[1]) %(space + pattern[2]) >= pattern[2]:\n",
    "            continue\n",
    "        for x in range(firstCords[0], lastCords[0]+1):\n",
    "            if (x - firstCords[0]) % (space + pattern[1]) >= pattern[1]:\n",
    "                continue\n",
    "            val = pattern[0][(x - firstCords[0]) %(space + pattern[1])][(y - firstCords[1]) %(space + pattern[2])]\n",
    "            if val == '.':\n",
    "                board[x][y] = 0\n",
    "            elif val != 'O':\n",
    "                board[x][y] = int(val)\n",
    "            else:\n",
    "                board[x][y] = sqId"
   ]
  },
  {
   "cell_type": "code",
   "execution_count": 28,
   "metadata": {},
   "outputs": [],
   "source": [
    "#Creating probiotic attack\n",
    "writePatternDict([0, 0], [xlength-1, int(lumenRatio*2/3 * yRatio)-1], breeder, probiotic['id'])"
   ]
  },
  {
   "cell_type": "code",
   "execution_count": 29,
   "metadata": {},
   "outputs": [],
   "source": [
    "#Creating Bacteria flora\n",
    "writePatternDict([0, int(lumenRatio*2/3 * yRatio)+1], [xlength-1, int(lumenRatio * yRatio*5/6)-2], readPattern('patterns/eater1.cells'), bacteria['id'])"
   ]
  },
  {
   "cell_type": "code",
   "execution_count": 30,
   "metadata": {},
   "outputs": [],
   "source": [
    "# Creating mucus layer with Tub\n",
    "writePatternDict([0, int(yRatio * lumenRatio)], [xlength-1, int(yRatio * (lumenRatio+mucusRatio)-1)], readPattern('patterns/epithelial.cells'), epithelial['id'], space=1)"
   ]
  },
  {
   "cell_type": "code",
   "execution_count": 31,
   "metadata": {},
   "outputs": [],
   "source": [
    "#Creating submucuosa\n",
    "for x in range(1, xlength):\n",
    "    for y in range(int(ylength-(yRatio * subMucusRatio)), int(ylength-(yRatio * subMucusRatio/2))):\n",
    "        if x%4 == 0 or x%4 == 1:\n",
    "            board[x][y] = nerve['id']\n",
    "    for y in range(int(ylength-(yRatio * subMucusRatio/2)), ylength):\n",
    "        board[x][y] = vessel['id']"
   ]
  },
  {
   "cell_type": "markdown",
   "metadata": {},
   "source": [
    "## Testing that the above cods are correct or not:"
   ]
  },
  {
   "cell_type": "code",
   "execution_count": 32,
   "metadata": {},
   "outputs": [],
   "source": [
    "# for y in range(int(yRatio * lumenRatio), int(yRatio * lumenRatio + 9)):\n",
    "#     for x in range(20):\n",
    "#         print(int(board[x][y]), end=\" \")\n",
    "#     print('\\n')"
   ]
  },
  {
   "cell_type": "code",
   "execution_count": 33,
   "metadata": {},
   "outputs": [],
   "source": [
    "# for y in range(0, int(yRatio * lumenRatio)):\n",
    "#     for x in range(xlength-20, xlength):\n",
    "#         print(int(board[x][y] != 0), end=\" \")\n",
    "#     print('\\n')"
   ]
  },
  {
   "cell_type": "code",
   "execution_count": 34,
   "metadata": {},
   "outputs": [],
   "source": [
    "# for y in range(int(ylength-(yRatio * subMucusRatio)), ylength):\n",
    "#     for x in range(20):\n",
    "#         print(int(board[x][y] != 0), end=' ')\n",
    "#     print('\\n')"
   ]
  },
  {
   "cell_type": "markdown",
   "metadata": {},
   "source": [
    "# Game Engine"
   ]
  },
  {
   "cell_type": "code",
   "execution_count": null,
   "metadata": {},
   "outputs": [],
   "source": [
    "inBlood = dict()"
   ]
  },
  {
   "cell_type": "markdown",
   "metadata": {},
   "source": [
    "### New status with dict"
   ]
  },
  {
   "cell_type": "code",
   "execution_count": 37,
   "metadata": {},
   "outputs": [],
   "source": [
    "import random\n",
    "import operator\n",
    "def getNewStatusDict(x, y):\n",
    "    global genNum\n",
    "    global board\n",
    "    global inBlood\n",
    "    if board[x][y] in types['matter'] and y == 95:\n",
    "        inBlood[board[x][y]] = inBlood.get(board[x][y], 0) + 1\n",
    "    if board[x][y] != 0:\n",
    "        if board[x][y] in idPerm:\n",
    "            return board[x][y]\n",
    "                \n",
    "    neighbors = dict()\n",
    "    aliveNeigh = 0\n",
    "    for i in range(-1, 2):\n",
    "        for j in range(-1, 2):\n",
    "            val = board[(x+i)%xlength][(y+j)%ylength]\n",
    "            if val == 0 or val in idPerm or (i == 0 and j==0) or (not (val in types['cell'])):\n",
    "                continue\n",
    "            neighbors[val] = neighbors.get(val, 0) + 1\n",
    "            aliveNeigh += 1\n",
    "    if (aliveNeigh == 3 or aliveNeigh == 6) and (board[x][y] == 0 or board[x][y] in types['matter']):\n",
    "        return max(neighbors.items(), key=operator.itemgetter(1))[0]\n",
    "    if aliveNeigh < 2 or aliveNeigh > 3:\n",
    "        for i in range(-1, 2):\n",
    "            for j in range(-1, 0):\n",
    "                val = board[(x+i)%xlength][(y+j)%ylength]\n",
    "                if aliveNeigh > 4 and (genNum%5 == 0) and (val in secrets) and not (i==j and i == 0):\n",
    "                    return secrets[val][random.randint(0, len(secrets[val])-1)]\n",
    "                if val in types['matter']:\n",
    "                    board[(x+i)%xlength][(y+j)%ylength] = 0\n",
    "                    return val\n",
    "        return 0\n",
    "\n",
    "    if board[x][y] in types['matter']:\n",
    "        return 0\n",
    "    \n",
    "    return board[x][y]"
   ]
  },
  {
   "cell_type": "code",
   "execution_count": 38,
   "metadata": {},
   "outputs": [],
   "source": [
    "def getNextGen():\n",
    "    global genNum\n",
    "    genNum = genNum + 1\n",
    "    newBoard = [[0] * ylength for i in range(xlength)]\n",
    "    for x in range(1, xlength):\n",
    "        for y in range(1, ylength):\n",
    "            newBoard[x][y] = getNewStatusDict(x, y)\n",
    "    return newBoard"
   ]
  },
  {
   "cell_type": "markdown",
   "metadata": {},
   "source": [
    "# Graphical setup"
   ]
  },
  {
   "cell_type": "code",
   "execution_count": 39,
   "metadata": {},
   "outputs": [],
   "source": [
    "import numpy as np\n",
    "import matplotlib\n",
    "import matplotlib.pyplot as plt \n",
    "import matplotlib.animation as animation\n",
    "\n",
    "def getGrid():\n",
    "    im = np.random.randint(254, 255, (xlength, ylength))\n",
    "    grid = np.dstack([im, im, im])\n",
    "    for x in range(xlength):\n",
    "        for y in range(ylength):\n",
    "            if board[x][y] == 0:\n",
    "                grid[x, y, :] = [255, 255, 255]\n",
    "            else:\n",
    "                grid[x, y, :] = idColor[board[x][y]]\n",
    "    return grid"
   ]
  },
  {
   "cell_type": "code",
   "execution_count": 40,
   "metadata": {
    "collapsed": true
   },
   "outputs": [
    {
     "data": {
      "image/png": "[encoded data removed]",
      "text/plain": [
       "<Figure size 432x288 with 1 Axes>"
      ]
     },
     "metadata": {
      "needs_background": "light"
     },
     "output_type": "display_data"
    }
   ],
   "source": [
    "def update(data=''):\n",
    "    global board\n",
    "    board = getNextGen()\n",
    "    if genNum == 1000:\n",
    "        print(inBlood)\n",
    "    # update data\n",
    "    img.set_data(getGrid())\n",
    "    return img\n",
    "\n",
    "fig, ax = plt.subplots()\n",
    "img = ax.imshow(getGrid(), interpolation='nearest')\n",
    "ani = animation.FuncAnimation(fig, update, frames=200, interval=50,\n",
    "                            save_count=50)\n",
    "plt.show()"
   ]
  },
  {
   "cell_type": "code",
   "execution_count": 41,
   "metadata": {},
   "outputs": [],
   "source": [
    "# ani.save('testfilm.mp4', fps=30, extra_args=['-vcodec', 'libx264'])"
   ]
  }
 ],
 "metadata": {
  "kernelspec": {
   "display_name": "Python 3",
   "language": "python",
   "name": "python3"
  },
  "language_info": {
   "codemirror_mode": {
    "name": "ipython",
    "version": 3
   },
   "file_extension": ".py",
   "mimetype": "text/x-python",
   "name": "python",
   "nbconvert_exporter": "python",
   "pygments_lexer": "ipython3",
   "version": "3.8.3"
  }
 },
 "nbformat": 4,
 "nbformat_minor": 4
}
